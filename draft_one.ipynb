{
 "cells": [
  {
   "cell_type": "code",
   "execution_count": 1,
   "id": "25afc357-37b4-4854-8f9d-1c19f78e8985",
   "metadata": {},
   "outputs": [],
   "source": [
    "# !pip install wordcloud \n",
    "# git clone https://github.com/amueller/word_cloud.git  "
   ]
  },
  {
   "cell_type": "code",
   "execution_count": 2,
   "id": "e1914a4d-b4ae-429a-bd90-3c1c8bf0a78e",
   "metadata": {},
   "outputs": [],
   "source": [
    "import pandas as pd\n",
    "import numpy as np"
   ]
  },
  {
   "cell_type": "code",
   "execution_count": 3,
   "id": "56154596-e5ea-4c05-9286-bdc6d109331e",
   "metadata": {},
   "outputs": [],
   "source": [
    "import nltk\n",
    "from statistics import mean\n",
    "from random import shuffle\n",
    "import string"
   ]
  },
  {
   "cell_type": "code",
   "execution_count": 4,
   "id": "4a422eb3-6fd8-45fb-b84e-5ae7c1d4bc08",
   "metadata": {},
   "outputs": [],
   "source": [
    "from sklearn.linear_model import LogisticRegression\n",
    "from sklearn.feature_extraction.text import TfidfVectorizer"
   ]
  },
  {
   "cell_type": "code",
   "execution_count": 5,
   "id": "0c58a7b9-aad5-4ab4-8bee-2dba02c30617",
   "metadata": {},
   "outputs": [],
   "source": [
    "from utils import process_text"
   ]
  },
  {
   "cell_type": "code",
   "execution_count": 6,
   "id": "1f91d120-1bbf-4db3-ad8b-e0b5ab327f73",
   "metadata": {},
   "outputs": [
    {
     "name": "stderr",
     "output_type": "stream",
     "text": [
      "[nltk_data] Downloading package names to /home/cameron/nltk_data...\n",
      "[nltk_data]   Package names is already up-to-date!\n",
      "[nltk_data] Downloading package stopwords to\n",
      "[nltk_data]     /home/cameron/nltk_data...\n",
      "[nltk_data]   Package stopwords is already up-to-date!\n",
      "[nltk_data] Downloading package movie_reviews to\n",
      "[nltk_data]     /home/cameron/nltk_data...\n",
      "[nltk_data]   Package movie_reviews is already up-to-date!\n",
      "[nltk_data] Downloading package averaged_perceptron_tagger to\n",
      "[nltk_data]     /home/cameron/nltk_data...\n",
      "[nltk_data]   Package averaged_perceptron_tagger is already up-to-\n",
      "[nltk_data]       date!\n",
      "[nltk_data] Downloading package vader_lexicon to\n",
      "[nltk_data]     /home/cameron/nltk_data...\n",
      "[nltk_data]   Package vader_lexicon is already up-to-date!\n",
      "[nltk_data] Downloading package punkt to /home/cameron/nltk_data...\n",
      "[nltk_data]   Package punkt is already up-to-date!\n"
     ]
    },
    {
     "data": {
      "text/plain": [
       "True"
      ]
     },
     "execution_count": 6,
     "metadata": {},
     "output_type": "execute_result"
    }
   ],
   "source": [
    "nltk.download([\n",
    "    \"names\",\n",
    "    \"stopwords\",\n",
    "    \"movie_reviews\",\n",
    "    \"averaged_perceptron_tagger\",\n",
    "    \"vader_lexicon\",\n",
    "    \"punkt\",\n",
    "])"
   ]
  },
  {
   "cell_type": "markdown",
   "id": "c1d37d70-a52a-4a1f-9148-dde8fd2f50e0",
   "metadata": {},
   "source": [
    "### Movie Review Data"
   ]
  },
  {
   "cell_type": "code",
   "execution_count": 7,
   "id": "0c20fb72-652b-4ad7-8a78-cc76a07e6f91",
   "metadata": {},
   "outputs": [],
   "source": [
    "# positive movie reviews\n",
    "positive_reviews = [\n",
    "    (nltk.corpus.movie_reviews.raw(review), 1)\n",
    "    for review in nltk.corpus.movie_reviews.fileids(categories=[\"pos\"])\n",
    "]"
   ]
  },
  {
   "cell_type": "code",
   "execution_count": 8,
   "id": "a7afb42d-bd0b-44da-9ffd-300b7570b954",
   "metadata": {},
   "outputs": [],
   "source": [
    "# negative movie reviews\n",
    "negative_reviews = [\n",
    "    (nltk.corpus.movie_reviews.raw(review), 0)\n",
    "    for review in nltk.corpus.movie_reviews.fileids(categories=[\"neg\"])\n",
    "]"
   ]
  },
  {
   "cell_type": "code",
   "execution_count": 9,
   "id": "8e1f4bd4-3f8d-457c-8b06-b396fa002022",
   "metadata": {},
   "outputs": [],
   "source": [
    "positive_reviews.extend(negative_reviews)\n",
    "shuffle(positive_reviews)"
   ]
  },
  {
   "cell_type": "code",
   "execution_count": 10,
   "id": "3949bba1-4bc0-4925-8076-e4508c0c8ecd",
   "metadata": {},
   "outputs": [],
   "source": [
    "reviews = [r[0] for r in positive_reviews]\n",
    "ratings = [r[1] for r in positive_reviews]"
   ]
  },
  {
   "cell_type": "code",
   "execution_count": 11,
   "id": "532c0cfc-bfe1-4007-beab-fb8fa567d343",
   "metadata": {},
   "outputs": [],
   "source": [
    "df_reviews = pd.DataFrame({'raw_text': reviews, 'label': ratings})"
   ]
  },
  {
   "cell_type": "code",
   "execution_count": 12,
   "id": "06b17936-9d65-4932-a067-505d5d0a43f8",
   "metadata": {},
   "outputs": [],
   "source": [
    "df_reviews['clean_text'] = df_reviews['raw_text'].apply(lambda x: process_text(x))"
   ]
  },
  {
   "cell_type": "code",
   "execution_count": 13,
   "id": "23b7c5f3-68ea-424b-bee9-102acc3b26ae",
   "metadata": {},
   "outputs": [
    {
     "data": {
      "text/html": [
       "<div>\n",
       "<style scoped>\n",
       "    .dataframe tbody tr th:only-of-type {\n",
       "        vertical-align: middle;\n",
       "    }\n",
       "\n",
       "    .dataframe tbody tr th {\n",
       "        vertical-align: top;\n",
       "    }\n",
       "\n",
       "    .dataframe thead th {\n",
       "        text-align: right;\n",
       "    }\n",
       "</style>\n",
       "<table border=\"1\" class=\"dataframe\">\n",
       "  <thead>\n",
       "    <tr style=\"text-align: right;\">\n",
       "      <th></th>\n",
       "      <th>clean_text</th>\n",
       "      <th>label</th>\n",
       "    </tr>\n",
       "  </thead>\n",
       "  <tbody>\n",
       "    <tr>\n",
       "      <th>0</th>\n",
       "      <td>weighed tired plot lines spielberg reliance fo...</td>\n",
       "      <td>0</td>\n",
       "    </tr>\n",
       "    <tr>\n",
       "      <th>1</th>\n",
       "      <td>mulholland drive well cannes film festival see...</td>\n",
       "      <td>0</td>\n",
       "    </tr>\n",
       "    <tr>\n",
       "      <th>2</th>\n",
       "      <td>american werewolf london john landis groundbre...</td>\n",
       "      <td>0</td>\n",
       "    </tr>\n",
       "    <tr>\n",
       "      <th>3</th>\n",
       "      <td>battlefield earth worst film 2000 guarantee no...</td>\n",
       "      <td>0</td>\n",
       "    </tr>\n",
       "    <tr>\n",
       "      <th>4</th>\n",
       "      <td>fact good thriller action movie need violence ...</td>\n",
       "      <td>1</td>\n",
       "    </tr>\n",
       "  </tbody>\n",
       "</table>\n",
       "</div>"
      ],
      "text/plain": [
       "                                          clean_text  label\n",
       "0  weighed tired plot lines spielberg reliance fo...      0\n",
       "1  mulholland drive well cannes film festival see...      0\n",
       "2  american werewolf london john landis groundbre...      0\n",
       "3  battlefield earth worst film 2000 guarantee no...      0\n",
       "4  fact good thriller action movie need violence ...      1"
      ]
     },
     "execution_count": 13,
     "metadata": {},
     "output_type": "execute_result"
    }
   ],
   "source": [
    "df_r = df_reviews[['clean_text', 'label']]\n",
    "df_r.head()"
   ]
  },
  {
   "cell_type": "code",
   "execution_count": 14,
   "id": "6d14809d-f7c2-470e-bb4e-d0676b64e36b",
   "metadata": {},
   "outputs": [
    {
     "data": {
      "text/plain": [
       "(2000, 2)"
      ]
     },
     "execution_count": 14,
     "metadata": {},
     "output_type": "execute_result"
    }
   ],
   "source": [
    "df_r.shape"
   ]
  },
  {
   "cell_type": "markdown",
   "id": "85083510-a828-4399-a3f7-fc33f8435550",
   "metadata": {},
   "source": [
    "### Food Reviews"
   ]
  },
  {
   "cell_type": "code",
   "execution_count": 15,
   "id": "8f6422e4-c86c-4650-ae38-4a326aff301c",
   "metadata": {},
   "outputs": [],
   "source": [
    "# set of reviews from https://www.kaggle.com/datasets/snap/amazon-fine-food-reviews?select=Reviews.csv\n",
    "df_food = pd.read_csv('Reviews.csv')\n",
    "# df_food.head()"
   ]
  },
  {
   "cell_type": "code",
   "execution_count": 16,
   "id": "28e0f0e8-8532-461b-aa99-cf9595a0f7db",
   "metadata": {},
   "outputs": [],
   "source": [
    "df_food = df_food[df_food['Score'] != 3]"
   ]
  },
  {
   "cell_type": "code",
   "execution_count": 17,
   "id": "d97f7dba-52ba-4cab-bee4-38e57e4ce8b8",
   "metadata": {},
   "outputs": [],
   "source": [
    "# recalibrate Score\n",
    "df_food['label'] = df_food['Score'].apply(lambda x: 1 if x > 3 else 0)"
   ]
  },
  {
   "cell_type": "code",
   "execution_count": 18,
   "id": "c899ed96-f443-4055-bb16-b5370868f7f6",
   "metadata": {},
   "outputs": [],
   "source": [
    "df_food['clean_text'] = df_food['Text'].apply(lambda x: process_text(x))"
   ]
  },
  {
   "cell_type": "code",
   "execution_count": 19,
   "id": "9bc54597-e61a-4a5b-a588-756f8cb54692",
   "metadata": {},
   "outputs": [
    {
     "data": {
      "text/html": [
       "<div>\n",
       "<style scoped>\n",
       "    .dataframe tbody tr th:only-of-type {\n",
       "        vertical-align: middle;\n",
       "    }\n",
       "\n",
       "    .dataframe tbody tr th {\n",
       "        vertical-align: top;\n",
       "    }\n",
       "\n",
       "    .dataframe thead th {\n",
       "        text-align: right;\n",
       "    }\n",
       "</style>\n",
       "<table border=\"1\" class=\"dataframe\">\n",
       "  <thead>\n",
       "    <tr style=\"text-align: right;\">\n",
       "      <th></th>\n",
       "      <th>clean_text</th>\n",
       "      <th>label</th>\n",
       "    </tr>\n",
       "  </thead>\n",
       "  <tbody>\n",
       "    <tr>\n",
       "      <th>0</th>\n",
       "      <td>I bought several Vitality canned dog food prod...</td>\n",
       "      <td>1</td>\n",
       "    </tr>\n",
       "    <tr>\n",
       "      <th>1</th>\n",
       "      <td>Product arrived labeled Jumbo Salted Peanuts ....</td>\n",
       "      <td>0</td>\n",
       "    </tr>\n",
       "    <tr>\n",
       "      <th>2</th>\n",
       "      <td>This confection around centuries It light pill...</td>\n",
       "      <td>1</td>\n",
       "    </tr>\n",
       "    <tr>\n",
       "      <th>3</th>\n",
       "      <td>If looking secret ingredient Robitussin I beli...</td>\n",
       "      <td>0</td>\n",
       "    </tr>\n",
       "    <tr>\n",
       "      <th>4</th>\n",
       "      <td>Great taffy great price There wide assortment ...</td>\n",
       "      <td>1</td>\n",
       "    </tr>\n",
       "  </tbody>\n",
       "</table>\n",
       "</div>"
      ],
      "text/plain": [
       "                                          clean_text  label\n",
       "0  I bought several Vitality canned dog food prod...      1\n",
       "1  Product arrived labeled Jumbo Salted Peanuts ....      0\n",
       "2  This confection around centuries It light pill...      1\n",
       "3  If looking secret ingredient Robitussin I beli...      0\n",
       "4  Great taffy great price There wide assortment ...      1"
      ]
     },
     "execution_count": 19,
     "metadata": {},
     "output_type": "execute_result"
    }
   ],
   "source": [
    "df_f = df_food[['clean_text', 'label']]\n",
    "df_f.head()"
   ]
  },
  {
   "cell_type": "code",
   "execution_count": 20,
   "id": "026a86bd-32c8-4192-9fc1-5147990c4a02",
   "metadata": {},
   "outputs": [
    {
     "data": {
      "text/plain": [
       "(525814, 2)"
      ]
     },
     "execution_count": 20,
     "metadata": {},
     "output_type": "execute_result"
    }
   ],
   "source": [
    "df_f.shape"
   ]
  },
  {
   "cell_type": "code",
   "execution_count": 21,
   "id": "c4cc4df8-be14-4859-ba98-5ddd92280cd1",
   "metadata": {},
   "outputs": [
    {
     "data": {
      "text/plain": [
       "(527814, 2)"
      ]
     },
     "execution_count": 21,
     "metadata": {},
     "output_type": "execute_result"
    }
   ],
   "source": [
    "df = pd.concat([df_f, df_r])\n",
    "df.sample(frac=1)\n",
    "df.shape"
   ]
  },
  {
   "cell_type": "markdown",
   "id": "0e6fb2d0-0d83-4522-8712-26175f8721dc",
   "metadata": {},
   "source": [
    "## Prepare data"
   ]
  },
  {
   "cell_type": "code",
   "execution_count": 22,
   "id": "f4d907b3-6c53-41c7-b988-710c983ebcdc",
   "metadata": {},
   "outputs": [],
   "source": [
    "X = np.array(df['clean_text'])\n",
    "y = np.array(df['label'])"
   ]
  },
  {
   "cell_type": "code",
   "execution_count": 23,
   "id": "cc2d8b8a-2fd1-4b78-8e17-3f33e31c2b31",
   "metadata": {},
   "outputs": [],
   "source": [
    "split = int(len(X) * 0.8)"
   ]
  },
  {
   "cell_type": "code",
   "execution_count": 24,
   "id": "ba747045-57f0-47a4-879b-33843f07f3df",
   "metadata": {},
   "outputs": [],
   "source": [
    "X_train = X[:split]\n",
    "X_test = X[split:]\n",
    "y_train = y[:split]\n",
    "y_test = y[split:]"
   ]
  },
  {
   "cell_type": "markdown",
   "id": "bf5e72e4-970f-4d25-b490-a27738b623b9",
   "metadata": {},
   "source": [
    "## Prepare Classifer, Train and Test"
   ]
  },
  {
   "cell_type": "code",
   "execution_count": 25,
   "id": "44104fb3-b48a-4859-9a77-ddaba74659fb",
   "metadata": {},
   "outputs": [],
   "source": [
    "vectorizer = TfidfVectorizer()\n",
    "clf = LogisticRegression()"
   ]
  },
  {
   "cell_type": "code",
   "execution_count": 26,
   "id": "086da8da-4d09-44c8-ae45-f6170ae58353",
   "metadata": {},
   "outputs": [],
   "source": [
    "X_train = vectorizer.fit_transform(X_train)\n",
    "X_test = vectorizer.transform(X_test)"
   ]
  },
  {
   "cell_type": "code",
   "execution_count": 27,
   "id": "4045811d-36ea-4581-9d14-54e5024cd027",
   "metadata": {},
   "outputs": [
    {
     "name": "stderr",
     "output_type": "stream",
     "text": [
      "/home/cameron/.local/lib/python3.10/site-packages/sklearn/linear_model/_logistic.py:444: ConvergenceWarning: lbfgs failed to converge (status=1):\n",
      "STOP: TOTAL NO. of ITERATIONS REACHED LIMIT.\n",
      "\n",
      "Increase the number of iterations (max_iter) or scale the data as shown in:\n",
      "    https://scikit-learn.org/stable/modules/preprocessing.html\n",
      "Please also refer to the documentation for alternative solver options:\n",
      "    https://scikit-learn.org/stable/modules/linear_model.html#logistic-regression\n",
      "  n_iter_i = _check_optimize_result(\n"
     ]
    },
    {
     "data": {
      "text/html": [
       "<style>#sk-container-id-1 {color: black;background-color: white;}#sk-container-id-1 pre{padding: 0;}#sk-container-id-1 div.sk-toggleable {background-color: white;}#sk-container-id-1 label.sk-toggleable__label {cursor: pointer;display: block;width: 100%;margin-bottom: 0;padding: 0.3em;box-sizing: border-box;text-align: center;}#sk-container-id-1 label.sk-toggleable__label-arrow:before {content: \"▸\";float: left;margin-right: 0.25em;color: #696969;}#sk-container-id-1 label.sk-toggleable__label-arrow:hover:before {color: black;}#sk-container-id-1 div.sk-estimator:hover label.sk-toggleable__label-arrow:before {color: black;}#sk-container-id-1 div.sk-toggleable__content {max-height: 0;max-width: 0;overflow: hidden;text-align: left;background-color: #f0f8ff;}#sk-container-id-1 div.sk-toggleable__content pre {margin: 0.2em;color: black;border-radius: 0.25em;background-color: #f0f8ff;}#sk-container-id-1 input.sk-toggleable__control:checked~div.sk-toggleable__content {max-height: 200px;max-width: 100%;overflow: auto;}#sk-container-id-1 input.sk-toggleable__control:checked~label.sk-toggleable__label-arrow:before {content: \"▾\";}#sk-container-id-1 div.sk-estimator input.sk-toggleable__control:checked~label.sk-toggleable__label {background-color: #d4ebff;}#sk-container-id-1 div.sk-label input.sk-toggleable__control:checked~label.sk-toggleable__label {background-color: #d4ebff;}#sk-container-id-1 input.sk-hidden--visually {border: 0;clip: rect(1px 1px 1px 1px);clip: rect(1px, 1px, 1px, 1px);height: 1px;margin: -1px;overflow: hidden;padding: 0;position: absolute;width: 1px;}#sk-container-id-1 div.sk-estimator {font-family: monospace;background-color: #f0f8ff;border: 1px dotted black;border-radius: 0.25em;box-sizing: border-box;margin-bottom: 0.5em;}#sk-container-id-1 div.sk-estimator:hover {background-color: #d4ebff;}#sk-container-id-1 div.sk-parallel-item::after {content: \"\";width: 100%;border-bottom: 1px solid gray;flex-grow: 1;}#sk-container-id-1 div.sk-label:hover label.sk-toggleable__label {background-color: #d4ebff;}#sk-container-id-1 div.sk-serial::before {content: \"\";position: absolute;border-left: 1px solid gray;box-sizing: border-box;top: 0;bottom: 0;left: 50%;z-index: 0;}#sk-container-id-1 div.sk-serial {display: flex;flex-direction: column;align-items: center;background-color: white;padding-right: 0.2em;padding-left: 0.2em;position: relative;}#sk-container-id-1 div.sk-item {position: relative;z-index: 1;}#sk-container-id-1 div.sk-parallel {display: flex;align-items: stretch;justify-content: center;background-color: white;position: relative;}#sk-container-id-1 div.sk-item::before, #sk-container-id-1 div.sk-parallel-item::before {content: \"\";position: absolute;border-left: 1px solid gray;box-sizing: border-box;top: 0;bottom: 0;left: 50%;z-index: -1;}#sk-container-id-1 div.sk-parallel-item {display: flex;flex-direction: column;z-index: 1;position: relative;background-color: white;}#sk-container-id-1 div.sk-parallel-item:first-child::after {align-self: flex-end;width: 50%;}#sk-container-id-1 div.sk-parallel-item:last-child::after {align-self: flex-start;width: 50%;}#sk-container-id-1 div.sk-parallel-item:only-child::after {width: 0;}#sk-container-id-1 div.sk-dashed-wrapped {border: 1px dashed gray;margin: 0 0.4em 0.5em 0.4em;box-sizing: border-box;padding-bottom: 0.4em;background-color: white;}#sk-container-id-1 div.sk-label label {font-family: monospace;font-weight: bold;display: inline-block;line-height: 1.2em;}#sk-container-id-1 div.sk-label-container {text-align: center;}#sk-container-id-1 div.sk-container {/* jupyter's `normalize.less` sets `[hidden] { display: none; }` but bootstrap.min.css set `[hidden] { display: none !important; }` so we also need the `!important` here to be able to override the default hidden behavior on the sphinx rendered scikit-learn.org. See: https://github.com/scikit-learn/scikit-learn/issues/21755 */display: inline-block !important;position: relative;}#sk-container-id-1 div.sk-text-repr-fallback {display: none;}</style><div id=\"sk-container-id-1\" class=\"sk-top-container\"><div class=\"sk-text-repr-fallback\"><pre>LogisticRegression()</pre><b>In a Jupyter environment, please rerun this cell to show the HTML representation or trust the notebook. <br />On GitHub, the HTML representation is unable to render, please try loading this page with nbviewer.org.</b></div><div class=\"sk-container\" hidden><div class=\"sk-item\"><div class=\"sk-estimator sk-toggleable\"><input class=\"sk-toggleable__control sk-hidden--visually\" id=\"sk-estimator-id-1\" type=\"checkbox\" checked><label for=\"sk-estimator-id-1\" class=\"sk-toggleable__label sk-toggleable__label-arrow\">LogisticRegression</label><div class=\"sk-toggleable__content\"><pre>LogisticRegression()</pre></div></div></div></div></div>"
      ],
      "text/plain": [
       "LogisticRegression()"
      ]
     },
     "execution_count": 27,
     "metadata": {},
     "output_type": "execute_result"
    }
   ],
   "source": [
    "clf.fit(X_train, y_train)"
   ]
  },
  {
   "cell_type": "code",
   "execution_count": 28,
   "id": "88800560-6a55-4489-8896-85d779c99858",
   "metadata": {},
   "outputs": [
    {
     "data": {
      "text/plain": [
       "0.9325426522550515"
      ]
     },
     "execution_count": 28,
     "metadata": {},
     "output_type": "execute_result"
    }
   ],
   "source": [
    "clf.score(X_test, y_test)"
   ]
  },
  {
   "cell_type": "markdown",
   "id": "42280ff3-f214-46a9-9967-baa818b16a53",
   "metadata": {},
   "source": [
    "## Predict"
   ]
  },
  {
   "cell_type": "code",
   "execution_count": 29,
   "id": "49723db0-4649-44a2-83eb-3f83b20977e8",
   "metadata": {},
   "outputs": [],
   "source": [
    "# from https://www.imdb.com/title/tt0114558/reviews\n",
    "# https://www.rottentomatoes.com/m/ballistic_ecks_vs_sever\n",
    "Text = [\"Probably one of the best big-budget sci-fi films to never reach a big audience. Written and produced by James Cameron and expertly directed by Kathryn Bigelow, this film is more noir than actual sci-fi - although the sci-fi elements are important. With a great cast and an amazing atmosphere throughout, this is one not to miss for fans of thrillers, film noir, sci-fi and especially the subgenre knwon as cyberbunk.\",\n",
    "       \"An action film starring Antonio Banderas and Lucy Liu, Ballistic: Ecks Vs. Sever looks like a video-game promo, has a story that plays like the fifth episode of a struggling syndicated action show, and feels like a headache waiting to happen.\",\n",
    "        \"If you must see Ecks vs. Sever, just go bang your head against the wall for an hour and a half. It would be the same effect.\",\n",
    "        \"Worst idea ever. Could not leave fast enough\"\n",
    "       ]"
   ]
  },
  {
   "cell_type": "code",
   "execution_count": 30,
   "id": "fb19b6d7-6469-4a80-9e1c-ed65a9af2806",
   "metadata": {},
   "outputs": [],
   "source": [
    "text = vectorizer.transform(Text)"
   ]
  },
  {
   "cell_type": "code",
   "execution_count": 31,
   "id": "ffd2c8a7-93f6-4e1f-930b-8de2bb69444c",
   "metadata": {},
   "outputs": [
    {
     "data": {
      "text/plain": [
       "array([1, 1, 1, 0])"
      ]
     },
     "execution_count": 31,
     "metadata": {},
     "output_type": "execute_result"
    }
   ],
   "source": [
    "# Only the first was a positive review\n",
    "clf.predict(text)"
   ]
  },
  {
   "cell_type": "code",
   "execution_count": null,
   "id": "5d4de785-fa61-4bfc-bb33-5bc1a15a600f",
   "metadata": {},
   "outputs": [],
   "source": []
  },
  {
   "cell_type": "code",
   "execution_count": null,
   "id": "f4dccef2-5f97-43d4-9e01-1e03adaf697a",
   "metadata": {},
   "outputs": [],
   "source": []
  }
 ],
 "metadata": {
  "kernelspec": {
   "display_name": "Python 3 (ipykernel)",
   "language": "python",
   "name": "python3"
  },
  "language_info": {
   "codemirror_mode": {
    "name": "ipython",
    "version": 3
   },
   "file_extension": ".py",
   "mimetype": "text/x-python",
   "name": "python",
   "nbconvert_exporter": "python",
   "pygments_lexer": "ipython3",
   "version": "3.10.11"
  }
 },
 "nbformat": 4,
 "nbformat_minor": 5
}
